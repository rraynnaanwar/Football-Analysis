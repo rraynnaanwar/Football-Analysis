{
 "cells": [
  {
   "cell_type": "markdown",
   "metadata": {},
   "source": [
    "This moves the dataset folder into a folder containing the dataset. This ensures the dataset is loaded without any errors"
   ]
  },
  {
   "cell_type": "code",
   "execution_count": null,
   "metadata": {},
   "outputs": [],
   "source": [
    "import shutil\n",
    "shutil.move('football-players-detection-1/train', 'football-players-detection-1/football-players-detection-1/train')\n",
    "shutil.move('football-players-detection-1/test', 'football-players-detection-1/football-players-detection-1/test')\n",
    "shutil.move('football-players-detection-1/valid', 'football-players-detection-1/football-players-detection-1/valid')"
   ]
  },
  {
   "cell_type": "markdown",
   "metadata": {},
   "source": [
    "This imports the dataset"
   ]
  },
  {
   "cell_type": "code",
   "execution_count": null,
   "metadata": {},
   "outputs": [],
   "source": [
    "from roboflow import Roboflow\n",
    "import os\n",
    "\n",
    "# Initialize Roboflow API\n",
    "rf = Roboflow(api_key=\"50IxLNNwMlJwWImbbmNP\")\n",
    "\n",
    "# Get the project and version\n",
    "project = rf.workspace(\"roboflow-jvuqo\").project(\"football-players-detection-3zvbc\")\n",
    "version = project.version(1)\n",
    "\n",
    "# Download the dataset\n",
    "dataset = version.download(\"yolov5\")\n",
    "\n",
    "# Check if the train set is downloaded correctly\n",
    "print(f\"Dataset location: {dataset.location}\")"
   ]
  },
  {
   "cell_type": "markdown",
   "metadata": {},
   "source": [
    "Training"
   ]
  },
  {
   "cell_type": "code",
   "execution_count": 1,
   "metadata": {},
   "outputs": [
    {
     "name": "stdout",
     "output_type": "stream",
     "text": [
      "^C\n"
     ]
    }
   ],
   "source": [
    "\n",
    "\n",
    "#path = 'C:\\\\Users\\\\rrayn\\\\OneDrive\\\\Desktop\\\\Personal-Project\\\\Football-AI\\\\Football-Analysis\\\\training\\\\football-players-detection-1\\\\data.yaml'\n",
    "#!yolo task=detect mode=train model=yolov5x.pt data={path} epochs=100 imgsz=640\n",
    "path = 'C:\\\\Users\\\\rrayn\\\\OneDrive\\\\Desktop\\\\Personal-Project\\\\Football-AI\\\\Football-Analysis\\\\training\\\\football-players-detection-1\\\\data.yaml'\n",
    "model_path = 'C:\\\\Users\\\\rrayn\\\\OneDrive\\\\Desktop\\\\Personal-Project\\\\Football-AI\\\\Football-Analysis\\\\models\\\\100EpochModel.pt'\n",
    "!yolo task=detect mode=train model={model_path} data={path} epochs=200 imgsz=640 > training.log 2>&1\n",
    "\n"
   ]
  },
  {
   "cell_type": "code",
   "execution_count": 2,
   "metadata": {},
   "outputs": [
    {
     "ename": "UnicodeDecodeError",
     "evalue": "'charmap' codec can't decode byte 0x8f in position 13: character maps to <undefined>",
     "output_type": "error",
     "traceback": [
      "\u001b[1;31m---------------------------------------------------------------------------\u001b[0m",
      "\u001b[1;31mUnicodeDecodeError\u001b[0m                        Traceback (most recent call last)",
      "Cell \u001b[1;32mIn[2], line 12\u001b[0m\n\u001b[0;32m     10\u001b[0m \u001b[38;5;66;03m# Monitor the log file every 10 seconds\u001b[39;00m\n\u001b[0;32m     11\u001b[0m \u001b[38;5;28;01mwhile\u001b[39;00m \u001b[38;5;28;01mTrue\u001b[39;00m:\n\u001b[1;32m---> 12\u001b[0m     \u001b[43mprint_last_lines\u001b[49m\u001b[43m(\u001b[49m\u001b[43mlog_file_path\u001b[49m\u001b[43m)\u001b[49m\n\u001b[0;32m     13\u001b[0m     time\u001b[38;5;241m.\u001b[39msleep(\u001b[38;5;241m10\u001b[39m)\n",
      "Cell \u001b[1;32mIn[2], line 7\u001b[0m, in \u001b[0;36mprint_last_lines\u001b[1;34m(file_path, n)\u001b[0m\n\u001b[0;32m      5\u001b[0m \u001b[38;5;28;01mdef\u001b[39;00m \u001b[38;5;21mprint_last_lines\u001b[39m(file_path, n\u001b[38;5;241m=\u001b[39m\u001b[38;5;241m10\u001b[39m):\n\u001b[0;32m      6\u001b[0m     \u001b[38;5;28;01mwith\u001b[39;00m \u001b[38;5;28mopen\u001b[39m(file_path, \u001b[38;5;124m'\u001b[39m\u001b[38;5;124mr\u001b[39m\u001b[38;5;124m'\u001b[39m) \u001b[38;5;28;01mas\u001b[39;00m file:\n\u001b[1;32m----> 7\u001b[0m         lines \u001b[38;5;241m=\u001b[39m \u001b[43mfile\u001b[49m\u001b[38;5;241;43m.\u001b[39;49m\u001b[43mreadlines\u001b[49m\u001b[43m(\u001b[49m\u001b[43m)\u001b[49m\n\u001b[0;32m      8\u001b[0m         \u001b[38;5;28mprint\u001b[39m(\u001b[38;5;124m'\u001b[39m\u001b[38;5;124m'\u001b[39m\u001b[38;5;241m.\u001b[39mjoin(lines[\u001b[38;5;241m-\u001b[39mn:]))\n",
      "File \u001b[1;32mc:\\Users\\rrayn\\AppData\\Local\\Programs\\Python\\Python312\\Lib\\encodings\\cp1252.py:23\u001b[0m, in \u001b[0;36mIncrementalDecoder.decode\u001b[1;34m(self, input, final)\u001b[0m\n\u001b[0;32m     22\u001b[0m \u001b[38;5;28;01mdef\u001b[39;00m \u001b[38;5;21mdecode\u001b[39m(\u001b[38;5;28mself\u001b[39m, \u001b[38;5;28minput\u001b[39m, final\u001b[38;5;241m=\u001b[39m\u001b[38;5;28;01mFalse\u001b[39;00m):\n\u001b[1;32m---> 23\u001b[0m     \u001b[38;5;28;01mreturn\u001b[39;00m \u001b[43mcodecs\u001b[49m\u001b[38;5;241;43m.\u001b[39;49m\u001b[43mcharmap_decode\u001b[49m\u001b[43m(\u001b[49m\u001b[38;5;28;43minput\u001b[39;49m\u001b[43m,\u001b[49m\u001b[38;5;28;43mself\u001b[39;49m\u001b[38;5;241;43m.\u001b[39;49m\u001b[43merrors\u001b[49m\u001b[43m,\u001b[49m\u001b[43mdecoding_table\u001b[49m\u001b[43m)\u001b[49m[\u001b[38;5;241m0\u001b[39m]\n",
      "\u001b[1;31mUnicodeDecodeError\u001b[0m: 'charmap' codec can't decode byte 0x8f in position 13: character maps to <undefined>"
     ]
    }
   ],
   "source": [
    "import time\n",
    "\n",
    "log_file_path = 'training.log'\n",
    "\n",
    "def print_last_lines(file_path, n=10):\n",
    "    with open(file_path, 'r') as file:\n",
    "        lines = file.readlines()\n",
    "        print(''.join(lines[-n:]))\n",
    "\n",
    "# Monitor the log file every 10 seconds\n",
    "while True:\n",
    "    print_last_lines(log_file_path)\n",
    "    time.sleep(10)\n"
   ]
  },
  {
   "cell_type": "markdown",
   "metadata": {},
   "source": [
    "Resume Training"
   ]
  },
  {
   "cell_type": "code",
   "execution_count": 1,
   "metadata": {},
   "outputs": [],
   "source": [
    "path = 'C:\\\\Users\\\\rrayn\\\\OneDrive\\\\Desktop\\\\Personal-Project\\\\Football-AI\\\\Football-Analysis\\\\training\\\\football-players-detection-1\\\\data.yaml'\n",
    "weights_path = 'C:\\\\Users\\\\rrayn\\\\OneDrive\\\\Desktop\\\\Personal-Project\\\\Football-AI\\\\Football-Analysis\\\\training\\\\runs\\\\detect\\\\train\\\\weights\\\\last.pt'\n",
    "\n",
    "!yolo task=detect mode=train model={weights_path} data={path} epochs=200 imgsz=640 --resume > training.log 2>&1\n"
   ]
  }
 ],
 "metadata": {
  "kernelspec": {
   "display_name": "Python 3",
   "language": "python",
   "name": "python3"
  },
  "language_info": {
   "codemirror_mode": {
    "name": "ipython",
    "version": 3
   },
   "file_extension": ".py",
   "mimetype": "text/x-python",
   "name": "python",
   "nbconvert_exporter": "python",
   "pygments_lexer": "ipython3",
   "version": "3.12.4"
  }
 },
 "nbformat": 4,
 "nbformat_minor": 2
}
